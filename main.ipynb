{
 "cells": [
  {
   "cell_type": "markdown",
   "metadata": {},
   "source": [
    "# Profitable App Profiles for the App Store and Google Play Markets\n",
    "For this project, we'll pretend we're working as data analysts for a company that builds Android and iOS mobile apps. We make our apps available on Google Play and the App Store.\n",
    "\n",
    "We only build apps that are free to download and install, and our main source of revenue consists of in-app ads. This means our revenue for any given app is mostly influenced by the number of users who use our app — the more users that see and engage with the ads, the better. Our goal for this project is to analyze data to help our developers understand what type of apps are likely to attract more users."
   ]
  },
  {
   "cell_type": "code",
   "execution_count": 1,
   "metadata": {},
   "outputs": [],
   "source": [
    "def explore_data(dataset, start, end, rows_and_columns=False):\n",
    "    dataset_slice = dataset[start:end]    \n",
    "    for row in dataset_slice:\n",
    "        print(row)\n",
    "        print('\\n')\n",
    "\n",
    "    if rows_and_columns:\n",
    "        print('Number of rows:', len(dataset))\n",
    "        print('Number of columns:', len(dataset[0]))"
   ]
  },
  {
   "cell_type": "code",
   "execution_count": 2,
   "metadata": {},
   "outputs": [],
   "source": [
    "from csv import reader\n",
    "\n",
    "ios = list(reader(open('AppleStore.csv', encoding='utf8')))\n",
    "ios_header = ios[0]\n",
    "ios_data = ios[1: ]\n",
    "\n",
    "android = list(reader(open('googleplaystore.csv', encoding='utf8')))\n",
    "android_header = android[0]\n",
    "android_body = android[1: ]"
   ]
  },
  {
   "cell_type": "code",
   "execution_count": 3,
   "metadata": {},
   "outputs": [
    {
     "name": "stdout",
     "output_type": "stream",
     "text": [
      "['id', 'track_name', 'size_bytes', 'currency', 'price', 'rating_count_tot', 'rating_count_ver', 'user_rating', 'user_rating_ver', 'ver', 'cont_rating', 'prime_genre', 'sup_devices.num', 'ipadSc_urls.num', 'lang.num', 'vpp_lic']\n",
      "\n",
      "\n",
      "['284882215', 'Facebook', '389879808', 'USD', '0.0', '2974676', '212', '3.5', '3.5', '95.0', '4+', 'Social Networking', '37', '1', '29', '1']\n",
      "\n",
      "\n",
      "['389801252', 'Instagram', '113954816', 'USD', '0.0', '2161558', '1289', '4.5', '4.0', '10.23', '12+', 'Photo & Video', '37', '0', '29', '1']\n",
      "\n",
      "\n",
      "['529479190', 'Clash of Clans', '116476928', 'USD', '0.0', '2130805', '579', '4.5', '4.5', '9.24.12', '9+', 'Games', '38', '5', '18', '1']\n",
      "\n",
      "\n",
      "['420009108', 'Temple Run', '65921024', 'USD', '0.0', '1724546', '3842', '4.5', '4.0', '1.6.2', '9+', 'Games', '40', '5', '1', '1']\n",
      "\n",
      "\n",
      "Number of rows: 7198\n",
      "Number of columns: 16\n"
     ]
    }
   ],
   "source": [
    "explore_data(ios, 0, 5, True)"
   ]
  },
  {
   "cell_type": "code",
   "execution_count": 4,
   "metadata": {
    "scrolled": true
   },
   "outputs": [
    {
     "name": "stdout",
     "output_type": "stream",
     "text": [
      "['App', 'Category', 'Rating', 'Reviews', 'Size', 'Installs', 'Type', 'Price', 'Content Rating', 'Genres', 'Last Updated', 'Current Ver', 'Android Ver']\n",
      "\n",
      "\n",
      "['Photo Editor & Candy Camera & Grid & ScrapBook', 'ART_AND_DESIGN', '4.1', '159', '19M', '10,000+', 'Free', '0', 'Everyone', 'Art & Design', 'January 7, 2018', '1.0.0', '4.0.3 and up']\n",
      "\n",
      "\n",
      "['Coloring book moana', 'ART_AND_DESIGN', '3.9', '967', '14M', '500,000+', 'Free', '0', 'Everyone', 'Art & Design;Pretend Play', 'January 15, 2018', '2.0.0', '4.0.3 and up']\n",
      "\n",
      "\n",
      "['U Launcher Lite – FREE Live Cool Themes, Hide Apps', 'ART_AND_DESIGN', '4.7', '87510', '8.7M', '5,000,000+', 'Free', '0', 'Everyone', 'Art & Design', 'August 1, 2018', '1.2.4', '4.0.3 and up']\n",
      "\n",
      "\n",
      "['Sketch - Draw & Paint', 'ART_AND_DESIGN', '4.5', '215644', '25M', '50,000,000+', 'Free', '0', 'Teen', 'Art & Design', 'June 8, 2018', 'Varies with device', '4.2 and up']\n",
      "\n",
      "\n",
      "Number of rows: 10842\n",
      "Number of columns: 13\n"
     ]
    }
   ],
   "source": [
    "explore_data(android, 0, 5, True)"
   ]
  },
  {
   "cell_type": "code",
   "execution_count": 5,
   "metadata": {},
   "outputs": [],
   "source": [
    "# delete rows with missing data\n",
    "del android[10473]"
   ]
  },
  {
   "cell_type": "code",
   "execution_count": 6,
   "metadata": {},
   "outputs": [
    {
     "data": {
      "text/plain": [
       "10841"
      ]
     },
     "execution_count": 6,
     "metadata": {},
     "output_type": "execute_result"
    }
   ],
   "source": [
    "len(android)"
   ]
  },
  {
   "cell_type": "markdown",
   "metadata": {},
   "source": [
    "The Google Play data set has duplicate entries so we need to delete the duplicates first before analysis"
   ]
  },
  {
   "cell_type": "code",
   "execution_count": 7,
   "metadata": {},
   "outputs": [],
   "source": [
    "unique_set = []\n",
    "duplicate_set = []\n",
    "\n",
    "for app in android[1:]:\n",
    "    name = app[0]\n",
    "    if name in unique_set:\n",
    "        duplicate_set.append(name)\n",
    "    else:\n",
    "        unique_set.append(name)"
   ]
  },
  {
   "cell_type": "code",
   "execution_count": 8,
   "metadata": {},
   "outputs": [
    {
     "name": "stdout",
     "output_type": "stream",
     "text": [
      "10840\n",
      "1181\n",
      "9659\n"
     ]
    }
   ],
   "source": [
    "print(len(android[1:]))\n",
    "print(len(duplicate_set))\n",
    "print(len(unique_set))"
   ]
  },
  {
   "cell_type": "markdown",
   "metadata": {},
   "source": [
    "As you can see their are 1181 duplicates entries in the Google play data set and we should delete them so it doesn't affect our analysis but which entry we should delete? should it be random? or should it have some criteria?!\n",
    "lets check one of the apps that has duplicates and see..."
   ]
  },
  {
   "cell_type": "code",
   "execution_count": 9,
   "metadata": {},
   "outputs": [
    {
     "name": "stdout",
     "output_type": "stream",
     "text": [
      "['Box', 'BUSINESS', '4.2', '159872', 'Varies with device', '10,000,000+', 'Free', '0', 'Everyone', 'Business', 'July 31, 2018', 'Varies with device', 'Varies with device']\n",
      "['Box', 'BUSINESS', '4.2', '159872', 'Varies with device', '10,000,000+', 'Free', '0', 'Everyone', 'Business', 'July 31, 2018', 'Varies with device', 'Varies with device']\n",
      "['Box', 'BUSINESS', '4.2', '159872', 'Varies with device', '10,000,000+', 'Free', '0', 'Everyone', 'Business', 'July 31, 2018', 'Varies with device', 'Varies with device']\n"
     ]
    }
   ],
   "source": [
    "for app in android:\n",
    "    if app[0] == duplicate_set[5]:\n",
    "        print(app)"
   ]
  },
  {
   "cell_type": "code",
   "execution_count": 10,
   "metadata": {},
   "outputs": [
    {
     "name": "stdout",
     "output_type": "stream",
     "text": [
      "['Hangouts', 'COMMUNICATION', '4.0', '3419249', 'Varies with device', '1,000,000,000+', 'Free', '0', 'Everyone', 'Communication', 'July 21, 2018', 'Varies with device', 'Varies with device']\n",
      "['Hangouts', 'COMMUNICATION', '4.0', '3419433', 'Varies with device', '1,000,000,000+', 'Free', '0', 'Everyone', 'Communication', 'July 21, 2018', 'Varies with device', 'Varies with device']\n",
      "['Hangouts', 'COMMUNICATION', '4.0', '3419513', 'Varies with device', '1,000,000,000+', 'Free', '0', 'Everyone', 'Communication', 'July 21, 2018', 'Varies with device', 'Varies with device']\n",
      "['Hangouts', 'COMMUNICATION', '4.0', '3419464', 'Varies with device', '1,000,000,000+', 'Free', '0', 'Everyone', 'Communication', 'July 21, 2018', 'Varies with device', 'Varies with device']\n"
     ]
    }
   ],
   "source": [
    "for app in android:\n",
    "    if app[0] == duplicate_set[40]:\n",
    "        print(app)"
   ]
  },
  {
   "cell_type": "markdown",
   "metadata": {},
   "source": [
    "After discovering some of the duplicates entries we can see that some duplicates have the same exact data and some differs on the number of 'reviews'\n",
    "for the first case we can delete any entry randomly\n",
    "But for the second case it makes sense to take the entry with the largest number of reviews\n",
    "because the different numbers show the data was collected at different times so the largest number will mean the latest data"
   ]
  },
  {
   "cell_type": "markdown",
   "metadata": {},
   "source": [
    "### To remove the duplicates, we will:\n",
    "\n",
    "- Create a dictionary, where each dictionary key is a unique app name and the corresponding dictionary value is the highest number of reviews of that app.\n",
    "\n",
    "- Use the information stored in the dictionary and create a new data set, which will have only one entry per app (and for each app, we'll only select the entry with the highest number of reviews)."
   ]
  },
  {
   "cell_type": "code",
   "execution_count": 11,
   "metadata": {},
   "outputs": [
    {
     "name": "stdout",
     "output_type": "stream",
     "text": [
      "9659\n"
     ]
    }
   ],
   "source": [
    "reviews_max = {}\n",
    "for app in android[1: ]:\n",
    "    name = app[0]\n",
    "    n_reviews = float(app[3])\n",
    "    if name in reviews_max:\n",
    "        if float(reviews_max[name][3]) < n_reviews:\n",
    "            reviews_max[name][3] = app[3]\n",
    "    else:\n",
    "        reviews_max[name] = app\n",
    "\n",
    "\n",
    "print(len(reviews_max))"
   ]
  },
  {
   "cell_type": "code",
   "execution_count": 12,
   "metadata": {},
   "outputs": [
    {
     "name": "stdout",
     "output_type": "stream",
     "text": [
      "3419513\n",
      "66577446\n"
     ]
    }
   ],
   "source": [
    "print(reviews_max['Hangouts'][3])\n",
    "print(reviews_max['Instagram'][3])"
   ]
  },
  {
   "cell_type": "code",
   "execution_count": 13,
   "metadata": {},
   "outputs": [],
   "source": [
    "android_clean = []\n",
    "already_added = []\n",
    "for app in android[1: ]:\n",
    "    name = app[0]\n",
    "    n_reviews = float(app[3])\n",
    "    if name not in already_added and n_reviews == float(reviews_max[name][3]):\n",
    "        android_clean.append(app)\n",
    "        already_added.append(name)\n"
   ]
  },
  {
   "cell_type": "code",
   "execution_count": 14,
   "metadata": {},
   "outputs": [
    {
     "name": "stdout",
     "output_type": "stream",
     "text": [
      "9659\n"
     ]
    }
   ],
   "source": [
    "print(len(android_clean))"
   ]
  },
  {
   "cell_type": "markdown",
   "metadata": {},
   "source": [
    "## Removing Non English apps\n",
    "Remember we use English for the apps we develop at our company, and we'd like to analyze only the apps that are directed toward an English-speaking audience. However, if we explore the data long enough, we'll find that both data sets have apps with names that suggest they are not directed toward an English-speaking audience"
   ]
  },
  {
   "cell_type": "code",
   "execution_count": 21,
   "metadata": {},
   "outputs": [
    {
     "name": "stdout",
     "output_type": "stream",
     "text": [
      "大众点评-发现品质生活\n"
     ]
    }
   ],
   "source": [
    "print(ios[2746][1])"
   ]
  },
  {
   "cell_type": "markdown",
   "metadata": {},
   "source": [
    "We're not interested in keeping these apps, so we'll remove them. One way to go about this is to remove each app with a name containing a symbol that is not commonly used in English text — English text usually includes letters from the English alphabet, numbers composed of digits from 0 to 9, punctuation marks (., !, ?, ;), and other symbols (+, *, /).\n",
    "\n",
    "Behind the scenes, each character we use in a string has a corresponding number associated with it. For instance, the corresponding number for character 'a' is 97, character 'A' is 65, and character '爱' is 29,233. We can get the corresponding number of each character using the ord() built-in function"
   ]
  },
  {
   "cell_type": "code",
   "execution_count": 22,
   "metadata": {},
   "outputs": [
    {
     "name": "stdout",
     "output_type": "stream",
     "text": [
      "65\n",
      "122\n",
      "29233\n"
     ]
    }
   ],
   "source": [
    "print(ord('A'))\n",
    "print(ord('z'))\n",
    "print(ord('爱'))"
   ]
  },
  {
   "cell_type": "markdown",
   "metadata": {},
   "source": [
    "The numbers corresponding to the characters we commonly use in an English text are all in the range 0 to 127, according to the ASCII system. \n",
    "Based on this number range, we can build a function that detects whether a character belongs to the set of common English characters or not. If the number is equal to or less than 127, then the character belongs to the set of common English characters."
   ]
  },
  {
   "cell_type": "markdown",
   "metadata": {},
   "source": [
    "If an app name contains a character that is greater than 127, then it probably means that the app has a non-English name."
   ]
  },
  {
   "cell_type": "code",
   "execution_count": 25,
   "metadata": {},
   "outputs": [],
   "source": [
    "def isEnglish(word):\n",
    "    for letter in word:\n",
    "        if ord(letter) > 127:\n",
    "            return False\n",
    "    return True"
   ]
  },
  {
   "cell_type": "code",
   "execution_count": 30,
   "metadata": {},
   "outputs": [
    {
     "name": "stdout",
     "output_type": "stream",
     "text": [
      "False\n",
      "False\n",
      "True\n",
      "False\n"
     ]
    }
   ],
   "source": [
    "print(isEnglish('爱奇艺PPS -《欢乐颂2》电视剧热播'))\n",
    "print(isEnglish('Docs To Go™ Free Office Suite'))\n",
    "print(isEnglish('Twitter'))\n",
    "print(isEnglish('Instachat 😜'))"
   ]
  },
  {
   "cell_type": "markdown",
   "metadata": {},
   "source": [
    "On the previous screen, we wrote a function that detects non-English app names, but we saw that the function couldn't correctly identify certain English app names like 'Docs To Go™ Free Office Suite' and 'Instachat 😜'. This is because emojis and characters like ™ fall outside the ASCII range and have corresponding numbers over 127.\n"
   ]
  },
  {
   "cell_type": "markdown",
   "metadata": {},
   "source": [
    "If we're going to use the function we've created, we'll lose useful data since many English apps will be incorrectly labeled as non-English. To minimize the impact of data loss, we'll only remove an app if its name has more than three characters with corresponding numbers falling outside the ASCII range. This means all English apps with up to three emoji or other special characters will still be labeled as English. Our filter function is still not perfect, but it should be fairly effective."
   ]
  },
  {
   "cell_type": "code",
   "execution_count": 31,
   "metadata": {},
   "outputs": [],
   "source": [
    "def isEnglishOptimized(word):\n",
    "    counter = 0\n",
    "    for letter in word:\n",
    "        if ord(letter) > 127:\n",
    "            counter += 1\n",
    "            if counter > 3:\n",
    "                return False\n",
    "    return True"
   ]
  },
  {
   "cell_type": "code",
   "execution_count": 32,
   "metadata": {},
   "outputs": [
    {
     "name": "stdout",
     "output_type": "stream",
     "text": [
      "False\n",
      "True\n",
      "True\n",
      "True\n"
     ]
    }
   ],
   "source": [
    "print(isEnglishOptimized('爱奇艺PPS -《欢乐颂2》电视剧热播'))\n",
    "print(isEnglishOptimized('Docs To Go™ Free Office Suite'))\n",
    "print(isEnglishOptimized('Twitter'))\n",
    "print(isEnglishOptimized('Instachat 😜'))"
   ]
  },
  {
   "cell_type": "markdown",
   "metadata": {},
   "source": [
    "Much Better!\n",
    "Now Lets delete the non-English apps from IOS and Google Play"
   ]
  },
  {
   "cell_type": "code",
   "execution_count": 33,
   "metadata": {},
   "outputs": [
    {
     "name": "stdout",
     "output_type": "stream",
     "text": [
      "9614\n"
     ]
    }
   ],
   "source": [
    "android_english = []\n",
    "\n",
    "for app in android_clean:\n",
    "    name = app[0]\n",
    "    if isEnglishOptimized(name):\n",
    "        android_english.append(app)\n",
    "\n",
    "print(len(android_english))"
   ]
  },
  {
   "cell_type": "code",
   "execution_count": 42,
   "metadata": {},
   "outputs": [
    {
     "name": "stdout",
     "output_type": "stream",
     "text": [
      "6183\n"
     ]
    }
   ],
   "source": [
    "ios_english = []\n",
    "\n",
    "for app in ios[1:]:\n",
    "    name = app[1]\n",
    "    if isEnglishOptimized(name):\n",
    "        ios_english.append(app)\n",
    "\n",
    "print(len(ios_english))"
   ]
  },
  {
   "cell_type": "markdown",
   "metadata": {},
   "source": [
    "## Isolating the free apps\n",
    "As we mentioned in the introduction, we only build apps that are free to download and install, and our main source of revenue consists of in-app ads. Our data sets contain both free and non-free apps; we'll need to isolate only the free apps for our analysis."
   ]
  },
  {
   "cell_type": "code",
   "execution_count": 40,
   "metadata": {},
   "outputs": [
    {
     "name": "stdout",
     "output_type": "stream",
     "text": [
      "8861\n"
     ]
    }
   ],
   "source": [
    "android_free = []\n",
    "\n",
    "for app in android_english:\n",
    "    a_type = app[6]\n",
    "    if a_type == 'Free':\n",
    "        android_free.append(app)\n",
    "\n",
    "print(len(android_free))"
   ]
  },
  {
   "cell_type": "code",
   "execution_count": 43,
   "metadata": {},
   "outputs": [
    {
     "name": "stdout",
     "output_type": "stream",
     "text": [
      "3222\n"
     ]
    }
   ],
   "source": [
    "ios_free = []\n",
    "\n",
    "for app in ios_english:\n",
    "    price = float(app[4])\n",
    "    if price == 0.0:\n",
    "        ios_free.append(app)\n",
    "\n",
    "print(len(ios_free))"
   ]
  },
  {
   "cell_type": "markdown",
   "metadata": {},
   "source": [
    "our aim is to determine the kinds of apps that are likely to attract more users because our revenue is highly influenced by the number of people using our apps.\n",
    "\n",
    "To minimize risks and overhead, our validation strategy for an app idea is comprised of three steps:\n",
    "1. Build a minimal Android version of the app, and add it to Google Play.\n",
    "2. If the app has a good response from users, we develop it further.\n",
    "3. If the app is profitable after six months, we build an iOS version of the app and add it to the App Store."
   ]
  },
  {
   "cell_type": "markdown",
   "metadata": {},
   "source": [
    "## Most Common Apps By Genre\n",
    "Because our end goal is to add the app on both Google Play and the App Store, we need to find app profiles that are successful on both markets. For instance, a profile that works well for both markets might be a productivity app that makes use of gamification.\n",
    "\n",
    "Let's begin the analysis by getting a sense of what are the most common genres for each market. For this, we'll need to build frequency tables for a few columns in our data sets."
   ]
  },
  {
   "cell_type": "code",
   "execution_count": 44,
   "metadata": {},
   "outputs": [
    {
     "name": "stdout",
     "output_type": "stream",
     "text": [
      "['Photo Editor & Candy Camera & Grid & ScrapBook', 'ART_AND_DESIGN', '4.1', '159', '19M', '10,000+', 'Free', '0', 'Everyone', 'Art & Design', 'January 7, 2018', '1.0.0', '4.0.3 and up']\n",
      "\n",
      "\n",
      "['Coloring book moana', 'ART_AND_DESIGN', '3.9', '974', '14M', '500,000+', 'Free', '0', 'Everyone', 'Art & Design;Pretend Play', 'January 15, 2018', '2.0.0', '4.0.3 and up']\n",
      "\n",
      "\n",
      "['U Launcher Lite – FREE Live Cool Themes, Hide Apps', 'ART_AND_DESIGN', '4.7', '87510', '8.7M', '5,000,000+', 'Free', '0', 'Everyone', 'Art & Design', 'August 1, 2018', '1.2.4', '4.0.3 and up']\n",
      "\n",
      "\n",
      "['Sketch - Draw & Paint', 'ART_AND_DESIGN', '4.5', '215644', '25M', '50,000,000+', 'Free', '0', 'Teen', 'Art & Design', 'June 8, 2018', 'Varies with device', '4.2 and up']\n",
      "\n",
      "\n",
      "['Pixel Draw - Number Art Coloring Book', 'ART_AND_DESIGN', '4.3', '967', '2.8M', '100,000+', 'Free', '0', 'Everyone', 'Art & Design;Creativity', 'June 20, 2018', '1.1', '4.4 and up']\n",
      "\n",
      "\n",
      "Number of rows: 8861\n",
      "Number of columns: 13\n"
     ]
    }
   ],
   "source": [
    "explore_data(android_free, 0, 5, True)"
   ]
  },
  {
   "cell_type": "markdown",
   "metadata": {},
   "source": [
    "After exploring the android data set, We can use the columns (Category, Genres) to generate frequency tables to find out what are the most common genres in Google Play market"
   ]
  },
  {
   "cell_type": "code",
   "execution_count": 45,
   "metadata": {},
   "outputs": [
    {
     "name": "stdout",
     "output_type": "stream",
     "text": [
      "['284882215', 'Facebook', '389879808', 'USD', '0.0', '2974676', '212', '3.5', '3.5', '95.0', '4+', 'Social Networking', '37', '1', '29', '1']\n",
      "\n",
      "\n",
      "['389801252', 'Instagram', '113954816', 'USD', '0.0', '2161558', '1289', '4.5', '4.0', '10.23', '12+', 'Photo & Video', '37', '0', '29', '1']\n",
      "\n",
      "\n",
      "['529479190', 'Clash of Clans', '116476928', 'USD', '0.0', '2130805', '579', '4.5', '4.5', '9.24.12', '9+', 'Games', '38', '5', '18', '1']\n",
      "\n",
      "\n",
      "['420009108', 'Temple Run', '65921024', 'USD', '0.0', '1724546', '3842', '4.5', '4.0', '1.6.2', '9+', 'Games', '40', '5', '1', '1']\n",
      "\n",
      "\n",
      "['284035177', 'Pandora - Music & Radio', '130242560', 'USD', '0.0', '1126879', '3594', '4.0', '4.5', '8.4.1', '12+', 'Music', '37', '4', '1', '1']\n",
      "\n",
      "\n",
      "Number of rows: 3222\n",
      "Number of columns: 16\n"
     ]
    }
   ],
   "source": [
    "explore_data(ios_free, 0, 5, True)"
   ]
  },
  {
   "cell_type": "markdown",
   "metadata": {},
   "source": [
    "After exploring the IOS data set, We can use the columns (prime_genre) to generate frequency tables to find out what are the most common genres in IOS market"
   ]
  },
  {
   "cell_type": "markdown",
   "metadata": {},
   "source": [
    "We'll build two functions we can use to analyze the frequency tables:\n",
    "\n",
    "- One function to generate frequency tables that show percentages\n",
    "- Another function we can use to display the percentages in a descending order"
   ]
  },
  {
   "cell_type": "markdown",
   "metadata": {},
   "source": [
    "dictionaries don't have order, and it will be very difficult to analyze the frequency tables. We'll need to build a second function which can help us display the entries in the frequency table in a descending order."
   ]
  },
  {
   "cell_type": "code",
   "execution_count": 52,
   "metadata": {},
   "outputs": [],
   "source": [
    "def freq_table(dataset, index):\n",
    "    table = {}\n",
    "    for row in dataset:\n",
    "        column = row[index]\n",
    "        if column in table:\n",
    "            table[column] += 1\n",
    "        else:\n",
    "            table[column] = 1\n",
    "            \n",
    "    dataset_length = len(dataset)\n",
    "    for row in table:\n",
    "        table[row] = table[row] / dataset_length * 100\n",
    "    \n",
    "    return table"
   ]
  },
  {
   "cell_type": "code",
   "execution_count": 54,
   "metadata": {},
   "outputs": [],
   "source": [
    "def display_table(dataset, index):\n",
    "    table = freq_table(dataset, index)\n",
    "    table_display = []\n",
    "    for key in table:\n",
    "        key_val_as_tuple = (table[key], key)\n",
    "        table_display.append(key_val_as_tuple)\n",
    "\n",
    "    table_sorted = sorted(table_display, reverse = True)\n",
    "    for entry in table_sorted:\n",
    "        print(entry[1], ':', entry[0])"
   ]
  },
  {
   "cell_type": "code",
   "execution_count": 55,
   "metadata": {},
   "outputs": [
    {
     "name": "stdout",
     "output_type": "stream",
     "text": [
      "FAMILY : 18.440356618891773\n",
      "GAME : 9.874731971560772\n",
      "TOOLS : 8.441485159688522\n",
      "BUSINESS : 4.593161042771697\n",
      "LIFESTYLE : 3.9047511567543167\n",
      "PRODUCTIVITY : 3.8934657487868187\n",
      "FINANCE : 3.7016138133393524\n",
      "MEDICAL : 3.521047285859384\n",
      "SPORTS : 3.3969077982169056\n",
      "PERSONALIZATION : 3.317909942444419\n",
      "COMMUNICATION : 3.2389120866719328\n",
      "HEALTH_AND_FITNESS : 3.080916375126961\n",
      "PHOTOGRAPHY : 2.9454914795169844\n",
      "NEWS_AND_MAGAZINES : 2.7987811759395105\n",
      "SOCIAL : 2.663356280329534\n",
      "TRAVEL_AND_LOCAL : 2.3360794492720913\n",
      "SHOPPING : 2.245796185532107\n",
      "BOOKS_AND_REFERENCE : 2.144227513824625\n",
      "DATING : 1.8620923146371742\n",
      "VIDEO_PLAYERS : 1.783094458864688\n",
      "MAPS_AND_NAVIGATION : 1.3993905879697552\n",
      "EDUCATION : 1.2865365082947748\n",
      "FOOD_AND_DRINK : 1.2413948764247829\n",
      "ENTERTAINMENT : 1.1285407967498025\n",
      "LIBRARIES_AND_DEMO : 0.9366888613023362\n",
      "AUTO_AND_VEHICLES : 0.9254034533348381\n",
      "HOUSE_AND_HOME : 0.8351201895948538\n",
      "WEATHER : 0.8012639656923597\n",
      "EVENTS : 0.7109807019523756\n",
      "ART_AND_DESIGN : 0.6771244780498815\n",
      "PARENTING : 0.6545536621148855\n",
      "COMICS : 0.6206974382123914\n",
      "BEAUTY : 0.5981266222773953\n"
     ]
    }
   ],
   "source": [
    "display_table(android_free, 1)"
   ]
  },
  {
   "cell_type": "code",
   "execution_count": 56,
   "metadata": {},
   "outputs": [
    {
     "name": "stdout",
     "output_type": "stream",
     "text": [
      "Tools : 8.430199751721025\n",
      "Entertainment : 6.071549486513937\n",
      "Education : 5.349283376594064\n",
      "Business : 4.593161042771697\n",
      "Productivity : 3.8934657487868187\n",
      "Lifestyle : 3.8934657487868187\n",
      "Finance : 3.7016138133393524\n",
      "Medical : 3.521047285859384\n",
      "Sports : 3.464620246021894\n",
      "Personalization : 3.317909942444419\n",
      "Communication : 3.2389120866719328\n",
      "Action : 3.103487191061957\n",
      "Health & Fitness : 3.080916375126961\n",
      "Photography : 2.9454914795169844\n",
      "News & Magazines : 2.7987811759395105\n",
      "Social : 2.663356280329534\n",
      "Travel & Local : 2.3247940413045933\n",
      "Shopping : 2.245796185532107\n",
      "Books & Reference : 2.144227513824625\n",
      "Simulation : 2.0426588421171425\n",
      "Dating : 1.8620923146371742\n",
      "Arcade : 1.8508069066696762\n",
      "Video Players & Editors : 1.7718090508971898\n",
      "Casual : 1.760523642929692\n",
      "Maps & Navigation : 1.3993905879697552\n",
      "Food & Drink : 1.2413948764247829\n",
      "Puzzle : 1.1285407967498025\n",
      "Racing : 0.9931159011398263\n",
      "Role Playing : 0.9366888613023362\n",
      "Libraries & Demo : 0.9366888613023362\n",
      "Auto & Vehicles : 0.9254034533348381\n",
      "Strategy : 0.9028326373998421\n",
      "House & Home : 0.8351201895948538\n",
      "Weather : 0.8012639656923597\n",
      "Events : 0.7109807019523756\n",
      "Adventure : 0.6771244780498815\n",
      "Comics : 0.6094120302448933\n",
      "Beauty : 0.5981266222773953\n",
      "Art & Design : 0.5981266222773953\n",
      "Parenting : 0.49655795056991314\n",
      "Card : 0.45141631869992105\n",
      "Casino : 0.42884550276492495\n",
      "Trivia : 0.4175600947974269\n",
      "Educational;Education : 0.3949892788624309\n",
      "Educational : 0.3724184629274348\n",
      "Board : 0.3724184629274348\n",
      "Education;Education : 0.33856223902494076\n",
      "Word : 0.25956438325245457\n",
      "Casual;Pretend Play : 0.23699356731745852\n",
      "Music : 0.20313734341496445\n",
      "Racing;Action & Adventure : 0.16928111951247038\n",
      "Puzzle;Brain Games : 0.16928111951247038\n",
      "Entertainment;Music & Video : 0.16928111951247038\n",
      "Casual;Brain Games : 0.13542489560997628\n",
      "Casual;Action & Adventure : 0.13542489560997628\n",
      "Arcade;Action & Adventure : 0.12413948764247829\n",
      "Action;Action & Adventure : 0.10156867170748222\n",
      "Educational;Pretend Play : 0.0902832637399842\n",
      "Board;Brain Games : 0.0902832637399842\n",
      "Simulation;Action & Adventure : 0.07899785577248618\n",
      "Parenting;Education : 0.07899785577248618\n",
      "Entertainment;Brain Games : 0.07899785577248618\n",
      "Parenting;Music & Video : 0.06771244780498814\n",
      "Educational;Brain Games : 0.06771244780498814\n",
      "Casual;Creativity : 0.06771244780498814\n",
      "Art & Design;Creativity : 0.06771244780498814\n",
      "Education;Pretend Play : 0.05642703983749013\n",
      "Role Playing;Pretend Play : 0.0451416318699921\n",
      "Education;Creativity : 0.0451416318699921\n",
      "Role Playing;Action & Adventure : 0.03385622390249407\n",
      "Puzzle;Action & Adventure : 0.03385622390249407\n",
      "Entertainment;Creativity : 0.03385622390249407\n",
      "Entertainment;Action & Adventure : 0.03385622390249407\n",
      "Educational;Creativity : 0.03385622390249407\n",
      "Educational;Action & Adventure : 0.03385622390249407\n",
      "Education;Music & Video : 0.03385622390249407\n",
      "Education;Brain Games : 0.03385622390249407\n",
      "Education;Action & Adventure : 0.03385622390249407\n",
      "Adventure;Action & Adventure : 0.03385622390249407\n",
      "Video Players & Editors;Music & Video : 0.02257081593499605\n",
      "Sports;Action & Adventure : 0.02257081593499605\n",
      "Simulation;Pretend Play : 0.02257081593499605\n",
      "Puzzle;Creativity : 0.02257081593499605\n",
      "Music;Music & Video : 0.02257081593499605\n",
      "Entertainment;Pretend Play : 0.02257081593499605\n",
      "Casual;Education : 0.02257081593499605\n",
      "Board;Action & Adventure : 0.02257081593499605\n",
      "Video Players & Editors;Creativity : 0.011285407967498025\n",
      "Trivia;Education : 0.011285407967498025\n",
      "Travel & Local;Action & Adventure : 0.011285407967498025\n",
      "Tools;Education : 0.011285407967498025\n",
      "Strategy;Education : 0.011285407967498025\n",
      "Strategy;Creativity : 0.011285407967498025\n",
      "Strategy;Action & Adventure : 0.011285407967498025\n",
      "Simulation;Education : 0.011285407967498025\n",
      "Role Playing;Brain Games : 0.011285407967498025\n",
      "Racing;Pretend Play : 0.011285407967498025\n",
      "Puzzle;Education : 0.011285407967498025\n",
      "Parenting;Brain Games : 0.011285407967498025\n",
      "Music & Audio;Music & Video : 0.011285407967498025\n",
      "Lifestyle;Pretend Play : 0.011285407967498025\n",
      "Lifestyle;Education : 0.011285407967498025\n",
      "Health & Fitness;Education : 0.011285407967498025\n",
      "Health & Fitness;Action & Adventure : 0.011285407967498025\n",
      "Entertainment;Education : 0.011285407967498025\n",
      "Communication;Creativity : 0.011285407967498025\n",
      "Comics;Creativity : 0.011285407967498025\n",
      "Casual;Music & Video : 0.011285407967498025\n",
      "Card;Action & Adventure : 0.011285407967498025\n",
      "Books & Reference;Education : 0.011285407967498025\n",
      "Art & Design;Pretend Play : 0.011285407967498025\n",
      "Art & Design;Action & Adventure : 0.011285407967498025\n",
      "Arcade;Pretend Play : 0.011285407967498025\n",
      "Adventure;Education : 0.011285407967498025\n"
     ]
    }
   ],
   "source": [
    "display_table(android_free, 9)"
   ]
  },
  {
   "cell_type": "code",
   "execution_count": 57,
   "metadata": {},
   "outputs": [
    {
     "name": "stdout",
     "output_type": "stream",
     "text": [
      "Games : 58.16263190564867\n",
      "Entertainment : 7.883302296710118\n",
      "Photo & Video : 4.9658597144630665\n",
      "Education : 3.662321539416512\n",
      "Social Networking : 3.2898820608317814\n",
      "Shopping : 2.60707635009311\n",
      "Utilities : 2.5139664804469275\n",
      "Sports : 2.1415270018621975\n",
      "Music : 2.0484171322160147\n",
      "Health & Fitness : 2.0173805090006205\n",
      "Productivity : 1.7380509000620732\n",
      "Lifestyle : 1.5828677839851024\n",
      "News : 1.3345747982619491\n",
      "Travel : 1.2414649286157666\n",
      "Finance : 1.1173184357541899\n",
      "Weather : 0.8690254500310366\n",
      "Food & Drink : 0.8069522036002483\n",
      "Reference : 0.5586592178770949\n",
      "Business : 0.5276225946617008\n",
      "Book : 0.4345127250155183\n",
      "Navigation : 0.186219739292365\n",
      "Medical : 0.186219739292365\n",
      "Catalogs : 0.12414649286157665\n"
     ]
    }
   ],
   "source": [
    "display_table(ios_free, 11)"
   ]
  },
  {
   "cell_type": "markdown",
   "metadata": {},
   "source": [
    "## Analysis\n",
    "### IOS\n",
    "- What is the most common genre? What is the runner-up?\n",
    "Games\n",
    "- What other patterns do you see?\n",
    "the App Store is dominated by apps designed for fun\n",
    "- What is the general impression — are most of the apps designed for practical purposes (education, shopping, utilities, productivity, lifestyle) or more for entertainment (games, photo and video, social networking, sports, music)?\n",
    "Most of the apps for entertainment\n",
    "\n",
    "- Can you recommend an app profile for the App Store market based on this frequency table alone? If there's a large number of apps for a particular genre, does that also imply that apps of that genre generally have a large number of users?\n",
    "yes I recommend Games or entertainment in general\n",
    "\n",
    "### Google Play\n",
    "- What is the most common genre? What is the runner-up?\n",
    "Family\n",
    "- What other patterns do you see?\n",
    "Google Play shows a more balanced landscape of both practical and fun apps.\n",
    "- What is the general impression — are most of the apps designed for practical purposes (education, shopping, utilities, productivity, lifestyle) or more for entertainment (games, photo and video, social networking, sports, music)?\n",
    "A little bit more for entertainment\n",
    "\n",
    "- Can you recommend an app profile for the App Store market based on this frequency table alone? If there's a large number of apps for a particular genre, does that also imply that apps of that genre generally have a large number of users?\n",
    "Tools or entertainment"
   ]
  },
  {
   "cell_type": "markdown",
   "metadata": {},
   "source": [
    "## Most Popular Apps By Genre"
   ]
  },
  {
   "cell_type": "markdown",
   "metadata": {},
   "source": [
    "One way to find out what genres are the most popular (have the most users) is to calculate the average number of installs for each app genre. For the Google Play data set, we can find this information in the Installs column, but this information is missing for the App Store data set. As a workaround, we'll take the total number of user ratings as a proxy, which we can find in the rating_count_tot app."
   ]
  },
  {
   "cell_type": "markdown",
   "metadata": {},
   "source": [
    "### IOS - prime genre"
   ]
  },
  {
   "cell_type": "code",
   "execution_count": 58,
   "metadata": {},
   "outputs": [
    {
     "name": "stdout",
     "output_type": "stream",
     "text": [
      "Social Networking  :  71548.34905660378\n",
      "Photo & Video  :  28441.54375\n",
      "Games  :  22788.6696905016\n",
      "Music  :  57326.530303030304\n",
      "Reference  :  74942.11111111111\n",
      "Health & Fitness  :  23298.015384615384\n",
      "Weather  :  52279.892857142855\n",
      "Utilities  :  18684.456790123455\n",
      "Travel  :  28243.8\n",
      "Shopping  :  26919.690476190477\n",
      "News  :  21248.023255813954\n",
      "Navigation  :  86090.33333333333\n",
      "Lifestyle  :  16485.764705882353\n",
      "Entertainment  :  14029.830708661417\n",
      "Food & Drink  :  33333.92307692308\n",
      "Sports  :  23008.898550724636\n",
      "Book  :  39758.5\n",
      "Finance  :  31467.944444444445\n",
      "Education  :  7003.983050847458\n",
      "Productivity  :  21028.410714285714\n",
      "Business  :  7491.117647058823\n",
      "Catalogs  :  4004.0\n",
      "Medical  :  612.0\n"
     ]
    }
   ],
   "source": [
    "prime_genre_freq_table = freq_table(ios_free, 11)\n",
    "for genre in prime_genre_freq_table:\n",
    "    total = 0\n",
    "    len_genre = 0\n",
    "    for app in ios_free:\n",
    "        genre_app = app[11]\n",
    "        if genre_app == genre:\n",
    "            total += float(app[5])\n",
    "            len_genre += 1\n",
    "    avg_rating = total / len_genre\n",
    "    print(genre , ' : ', avg_rating)"
   ]
  },
  {
   "cell_type": "markdown",
   "metadata": {},
   "source": [
    "### Google Play - category"
   ]
  },
  {
   "cell_type": "code",
   "execution_count": 61,
   "metadata": {},
   "outputs": [
    {
     "name": "stdout",
     "output_type": "stream",
     "text": [
      "ART_AND_DESIGN  :  1905351.6666666667\n",
      "AUTO_AND_VEHICLES  :  647317.8170731707\n",
      "BEAUTY  :  513151.88679245283\n",
      "BOOKS_AND_REFERENCE  :  8767811.894736841\n",
      "BUSINESS  :  1712290.1474201474\n",
      "COMICS  :  817657.2727272727\n",
      "COMMUNICATION  :  38456119.167247385\n",
      "DATING  :  854028.8303030303\n",
      "EDUCATION  :  3082017.543859649\n",
      "ENTERTAINMENT  :  21134600.0\n",
      "EVENTS  :  253542.22222222222\n",
      "FINANCE  :  1387692.475609756\n",
      "FOOD_AND_DRINK  :  1924897.7363636363\n",
      "HEALTH_AND_FITNESS  :  4188821.9853479853\n",
      "HOUSE_AND_HOME  :  1313681.9054054054\n",
      "LIBRARIES_AND_DEMO  :  638503.734939759\n",
      "LIFESTYLE  :  1437816.2687861272\n",
      "GAME  :  15837565.085714286\n",
      "FAMILY  :  2693265.4161566705\n",
      "MEDICAL  :  120616.48717948717\n",
      "SOCIAL  :  23253652.127118643\n",
      "SHOPPING  :  7036877.311557789\n",
      "PHOTOGRAPHY  :  17805627.643678162\n",
      "SPORTS  :  3638640.1428571427\n",
      "TRAVEL_AND_LOCAL  :  13984077.710144928\n",
      "TOOLS  :  10695245.286096256\n",
      "PERSONALIZATION  :  5201482.6122448975\n",
      "PRODUCTIVITY  :  16787331.344927534\n",
      "PARENTING  :  542603.6206896552\n",
      "WEATHER  :  5074486.197183099\n",
      "VIDEO_PLAYERS  :  24852732.40506329\n",
      "NEWS_AND_MAGAZINES  :  9549178.467741935\n",
      "MAPS_AND_NAVIGATION  :  4056941.7741935486\n"
     ]
    }
   ],
   "source": [
    "category_freq_table = freq_table(android_free, 1)\n",
    "for category in category_freq_table:\n",
    "    total = 0\n",
    "    len_category = 0\n",
    "    for app in android_free:\n",
    "        category_app = app[1]\n",
    "        if category_app == category:\n",
    "            total += float(app[5].replace(',','').replace('+',''))\n",
    "            len_category += 1\n",
    "    avg_rating = total / len_category\n",
    "    print(category , ' : ', avg_rating)"
   ]
  },
  {
   "cell_type": "code",
   "execution_count": null,
   "metadata": {},
   "outputs": [],
   "source": []
  },
  {
   "cell_type": "code",
   "execution_count": 62,
   "metadata": {},
   "outputs": [
    {
     "name": "stdout",
     "output_type": "stream",
     "text": [
      "Messenger – Text and Video Chat for Free  :  1,000,000,000+\n",
      "WhatsApp Messenger  :  1,000,000,000+\n",
      "Messenger for SMS  :  10,000,000+\n",
      "Google Chrome: Fast & Secure  :  1,000,000,000+\n",
      "Messenger Lite: Free Calls & Messages  :  100,000,000+\n",
      "Gmail  :  1,000,000,000+\n",
      "Hangouts  :  1,000,000,000+\n",
      "Viber Messenger  :  500,000,000+\n",
      "My Tele2  :  5,000,000+\n",
      "Firefox Browser fast & private  :  100,000,000+\n",
      "Yahoo Mail – Stay Organized  :  100,000,000+\n",
      "imo beta free calls and text  :  100,000,000+\n",
      "imo free video calls and chat  :  500,000,000+\n",
      "Contacts  :  50,000,000+\n",
      "Call Free – Free Call  :  5,000,000+\n",
      "Web Browser & Explorer  :  5,000,000+\n",
      "Opera Mini - fast web browser  :  100,000,000+\n",
      "Browser 4G  :  10,000,000+\n",
      "MegaFon Dashboard  :  10,000,000+\n",
      "ZenUI Dialer & Contacts  :  10,000,000+\n",
      "Cricket Visual Voicemail  :  10,000,000+\n",
      "Opera Browser: Fast and Secure  :  100,000,000+\n",
      "TracFone My Account  :  1,000,000+\n",
      "Firefox Focus: The privacy browser  :  1,000,000+\n",
      "Google Voice  :  10,000,000+\n",
      "Chrome Dev  :  5,000,000+\n",
      "Xperia Link™  :  10,000,000+\n",
      "TouchPal Keyboard - Fun Emoji & Android Keyboard  :  10,000,000+\n",
      "Who  :  100,000,000+\n",
      "Skype Lite - Free Video Call & Chat  :  5,000,000+\n",
      "WeChat  :  100,000,000+\n",
      "UC Browser Mini -Tiny Fast Private & Secure  :  100,000,000+\n",
      "WhatsApp Business  :  10,000,000+\n",
      "My magenta  :  1,000,000+\n",
      "Android Messages  :  100,000,000+\n",
      "Telegram  :  100,000,000+\n",
      "Google Duo - High Quality Video Calls  :  500,000,000+\n",
      "Puffin Web Browser  :  10,000,000+\n",
      "Seznam.cz  :  1,000,000+\n",
      "Antillean Gold Telegram (original version)  :  100,000+\n",
      "AT&T Visual Voicemail  :  10,000,000+\n",
      "GMX Mail  :  10,000,000+\n",
      "Omlet Chat  :  10,000,000+\n",
      "UC Browser - Fast Download Private & Secure  :  500,000,000+\n",
      "My Vodacom SA  :  5,000,000+\n",
      "Microsoft Edge  :  5,000,000+\n",
      "Hangouts Dialer - Call Phones  :  10,000,000+\n",
      "Talkatone: Free Texts, Calls & Phone Number  :  10,000,000+\n",
      "Calls & Text by Mo+  :  5,000,000+\n",
      "free video calls and chat  :  50,000,000+\n",
      "Skype - free IM & video calls  :  1,000,000,000+\n",
      "GO SMS Pro - Messenger, Free Themes, Emoji  :  100,000,000+\n",
      "Messaging+ SMS, MMS Free  :  1,000,000+\n",
      "chomp SMS  :  10,000,000+\n",
      "Glide - Video Chat Messenger  :  10,000,000+\n",
      "Text SMS  :  10,000,000+\n",
      "Google Allo  :  10,000,000+\n",
      "Talkray - Free Calls & Texts  :  10,000,000+\n",
      "LINE: Free Calls & Messages  :  500,000,000+\n",
      "GroupMe  :  10,000,000+\n",
      "mysms SMS Text Messaging Sync  :  1,000,000+\n",
      "BBM - Free Calls & Messages  :  100,000,000+\n",
      "KakaoTalk: Free Calls & Text  :  100,000,000+\n",
      "2ndLine - Second Phone Number  :  1,000,000+\n",
      "CM Browser - Ad Blocker , Fast Download , Privacy  :  50,000,000+\n",
      "Ninesky Browser  :  1,000,000+\n",
      "Dolphin Browser - Fast, Private & Adblock🐬  :  50,000,000+\n",
      "Ghostery Privacy Browser  :  1,000,000+\n",
      "InBrowser - Incognito Browsing  :  1,000,000+\n",
      "Web Browser for Android  :  1,000,000+\n",
      "DU Browser—Browse fast & fun  :  10,000,000+\n",
      "Lightning Web Browser  :  500,000+\n",
      "Web Browser  :  500,000+\n",
      "Contacts+  :  10,000,000+\n",
      "ExDialer - Dialer & Contacts  :  10,000,000+\n",
      "PHONE for Google Voice & GTalk  :  1,000,000+\n",
      "Safest Call Blocker  :  1,000,000+\n",
      "Full Screen Caller ID  :  5,000,000+\n",
      "Hiya - Caller ID & Block  :  10,000,000+\n",
      "Mr. Number-Block calls & spam  :  10,000,000+\n",
      "Should I Answer?  :  1,000,000+\n",
      "RocketDial Dialer & Contacts  :  1,000,000+\n",
      "CallApp: Caller ID, Blocker & Phone Call Recorder  :  10,000,000+\n",
      "Whoscall - Caller ID & Block  :  10,000,000+\n",
      "CIA - Caller ID & Call Blocker  :  5,000,000+\n",
      "Calls Blacklist - Call Blocker  :  10,000,000+\n",
      "Call Control - Call Blocker  :  5,000,000+\n",
      "True Contact - Real Caller ID  :  1,000,000+\n",
      "Video Caller Id  :  1,000,000+\n",
      "Sync.ME – Caller ID & Block  :  5,000,000+\n",
      "Burner - Free Phone Number  :  1,000,000+\n",
      "Truecaller: Caller ID, SMS spam blocking & Dialer  :  100,000,000+\n",
      "Caller ID +  :  1,000,000+\n",
      "K-9 Mail  :  5,000,000+\n",
      "myMail – Email for Hotmail, Gmail and Outlook Mail  :  10,000,000+\n",
      "Email TypeApp - Mail App  :  1,000,000+\n",
      "All Email Providers  :  1,000,000+\n",
      "Newton Mail - Email App for Gmail, Outlook, IMAP  :  1,000,000+\n",
      "GO Notifier  :  10,000,000+\n",
      "Mail.Ru - Email App  :  50,000,000+\n",
      "Mail1Click - Secure Mail  :  10,000+\n",
      "Daum Mail - Next Mail  :  5,000,000+\n",
      "mail.com mail  :  1,000,000+\n",
      "SolMail - All-in-One email app  :  500,000+\n",
      "Vonage Mobile® Call Video Text  :  1,000,000+\n",
      "JusTalk - Free Video Calls and Fun Video Chat  :  5,000,000+\n",
      "Azar  :  50,000,000+\n",
      "LokLok: Draw on a Lock Screen  :  500,000+\n",
      "Discord - Chat for Gamers  :  10,000,000+\n",
      "AntennaPict β  :  1,000,000+\n",
      "Kik  :  100,000,000+\n",
      "K-@ Mail - Email App  :  100,000+\n",
      "K-9 Material (unofficial)  :  5,000+\n",
      "M star Dialer  :  100,000+\n",
      "Free WiFi Connect  :  10,000,000+\n",
      "m:go BiH  :  10,000+\n",
      "N-Com Wizard  :  50,000+\n",
      "Opera Mini browser beta  :  10,000,000+\n",
      "Psiphon Pro - The Internet Freedom VPN  :  10,000,000+\n",
      "ICQ — Video Calls & Chat Messenger  :  10,000,000+\n",
      "AT&T Messages for Tablet  :  1,000,000+\n",
      "T-Mobile DIGITS  :  100,000+\n",
      "Portable Wi-Fi hotspot  :  10,000,000+\n",
      "AT&T Call Protect  :  5,000,000+\n",
      "U - Webinars, Meetings & Messenger  :  500,000+\n",
      "/u/app  :  10,000+\n",
      "[verify-U] VideoIdent  :  10,000+\n",
      "WhatsCall Free Global Phone Call App & Cheap Calls  :  10,000,000+\n",
      "X Browser  :  50,000+\n",
      "Free Adblocker Browser - Adblock & Popup Blocker  :  10,000,000+\n",
      "Adblock Browser for Android  :  10,000,000+\n",
      "Adblock Plus for Samsung Internet - Browse safe.  :  1,000,000+\n",
      "Ad Blocker Turbo - Adblocker Browser  :  10,000+\n",
      "Brave Browser: Fast AdBlocker  :  5,000,000+\n",
      "AG Contacts, Lite edition  :  5,000+\n",
      "Oklahoma Ag Co-op Council  :  10+\n",
      "Bee'ah Employee App  :  100+\n",
      "tournaments and more.aj.2  :  100+\n",
      "Aj.Petra  :  100+\n",
      "AK Phone  :  5,000+\n",
      "PlacarTv Futebol Ao Vivo  :  100,000+\n",
      "WiFi Access Point (hotspot)  :  100,000+\n",
      "Access Point Names  :  10,000+\n",
      "ClanHQ  :  10,000+\n",
      "Ear Agent: Super Hearing  :  5,000,000+\n",
      "AU Call Blocker - Block Unwanted Calls Texts 2018  :  1,000+\n",
      "Baby Monitor AV  :  100,000+\n",
      "AV Phone  :  1,000+\n",
      "AW - free video calls and chat  :  1,000,000+\n",
      "Katalogen.ax  :  100+\n",
      "AZ Browser. Private & Download  :  100,000+\n",
      "BA SALES  :  1+\n",
      "BD Data Plan (3G & 4G)  :  500,000+\n",
      "BD Internet Packages (Updated)  :  50,000+\n",
      "BD Dialer  :  10,000+\n",
      "BD Live Call  :  5,000+\n",
      "Best Browser BD social networking  :  10+\n",
      "Traffic signs BD  :  500+\n",
      "BF Browser by Betfilter - Stop Gambling Today!  :  10,000+\n",
      "My BF App  :  50,000+\n",
      "BH Mail  :  1,000+\n",
      "Zalo – Video Call  :  50,000,000+\n",
      "BJ - Confidential  :  10+\n",
      "BK Chat  :  1,000+\n",
      "Of the wall Arapaho bk  :  5+\n",
      "AC-BL  :  50+\n",
      "DMR BrandMeister Tool  :  10,000+\n",
      "BBMoji - Your personalized BBM Stickers  :  1,000,000+\n",
      "BN MALLORCA Radio  :  1,000+\n",
      "BQ Partners  :  1,000+\n",
      "BS-Mobile  :  50+\n",
      "ATC Unico BS  :  500+\n",
      "BT One Voice mobile access  :  5,000+\n",
      "BT Messenger  :  50,000+\n",
      "BT One Phone Mobile App  :  10,000+\n",
      "SW-100.tch by Callstel  :  1,000,000+\n",
      "BT MeetMe with Dolby Voice  :  100,000+\n",
      "Bluetooth Auto Connect  :  5,000,000+\n",
      "AudioBT: BT audio GPS/SMS/Text  :  50,000+\n",
      "BV  :  100+\n",
      "Feel Performer  :  10,000+\n",
      "Tiny Call Confirm  :  1,000,000+\n",
      "CB Radio Chat - for friends!  :  1,000,000+\n",
      "CB On Mobile  :  100,000+\n",
      "Virtual Walkie Talkie  :  1,000,000+\n",
      "Channel 19  :  100,000+\n",
      "Cb browser  :  50+\n",
      "CF Chat: Connecting Friends  :  100+\n",
      "retteMi.ch  :  5,000+\n",
      "CJ Browser - Fast & Private  :  100+\n",
      "CJ DVD Rentals  :  100+\n",
      "CK Call NEW  :  10+\n",
      "CM Transfer - Share any files with friends nearby  :  5,000,000+\n",
      "mail.co.uk Mail  :  5,000+\n",
      "ClanPlay: Community and Tools for Gamers  :  1,000,000+\n",
      "CQ-Mobile  :  1,000+\n",
      "CQ-Alert  :  500+\n",
      "QRZ Assistant  :  100,000+\n",
      "Pocket Prefix Plus  :  10,000+\n",
      "Ham Radio Prefixes  :  10,000+\n",
      "CS Customizer  :  1,000+\n",
      "CS Browser | #1 & BEST BROWSER  :  1,000+\n",
      "CS Browser Beta  :  5,000+\n",
      "My Vodafone (GR)  :  1,000,000+\n",
      "IZ2UUF Morse Koch CW  :  50,000+\n",
      "C W Browser  :  100+\n",
      "CW Bluetooth SPP  :  100+\n",
      "CW BLE Peripheral Simulator  :  500+\n",
      "Morse Code Reader  :  100,000+\n",
      "Learn Morse Code - G0HYN Learn Morse  :  5,000+\n",
      "Ring  :  10,000+\n",
      "Hyundai CX Conference  :  50+\n",
      "Cy Messenger  :  100+\n",
      "Amadeus GR & CY  :  100+\n",
      "Hlášenírozhlasu.cz  :  10+\n",
      "SMS Sender - sluzba.cz  :  1,000+\n",
      "WEB.DE Mail  :  10,000,000+\n",
      "Your Freedom VPN Client  :  5,000,000+\n",
      "Rádio Sol Nascente DF  :  500+\n",
      "DG Card  :  100+\n",
      "DK Browser  :  10+\n",
      "cluster.dk  :  1,000+\n",
      "DK TEL Dialer  :  50+\n",
      "DM for WhatsApp  :  5,000+\n",
      "DM Talk New  :  5,000+\n",
      "DM - The Offical Messaging App  :  10+\n",
      "DM Tracker  :  1,000+\n",
      "Call Blocker & Blacklist  :  1,000+\n",
      "ReadyOp DT  :  1,000+\n",
      "Caller ID & Call Block - DU Caller  :  5,000,000+\n",
      "BlueDV AMBE  :  1,000+\n",
      "DW Contacts & Phone & Dialer  :  1,000,000+\n",
      "Deaf World DW  :  10,000+\n",
      "Ham DX Cluster & Spots Finder  :  5,000+\n",
      "Mircules DX Cluster Lite  :  5,000+\n",
      "3G DZ Configuration  :  50,000+\n",
      "chat dz  :  100+\n",
      "love sms good morning  :  5,000+\n",
      "Goodbox - Mega App  :  100,000+\n",
      "Call Blocker - Blacklist, SMS Blocker  :  1,000,000+\n",
      "[EF]ShoutBox  :  100+\n"
     ]
    },
    {
     "name": "stdout",
     "output_type": "stream",
     "text": [
      "Eg Call  :  10,000+\n",
      "ei  :  10+\n",
      "EJ messenger  :  10+\n",
      "Ek IRA  :  10+\n",
      "Orfox: Tor Browser for Android  :  10,000,000+\n",
      "EO Mumbai  :  10+\n",
      "EP RSS Reader  :  100+\n",
      "Voxer Walkie Talkie Messenger  :  10,000,000+\n",
      "ES-1  :  500+\n",
      "EU Council  :  1,000+\n",
      "Council Voting Calculator  :  5,000+\n",
      "Have your say on Europe  :  500+\n",
      "Programi podrške EU  :  100+\n",
      "Inbox.eu  :  10,000+\n",
      "Everbridge  :  100,000+\n",
      "Best Auto Call Recorder Free  :  500+\n",
      "EZ Wifi Notification  :  10,000+\n",
      "Test Server SMS FA  :  5+\n",
      "Lite for Facebook Messenger  :  1,000,000+\n",
      "FC Browser - Focus Privacy Browser  :  1,000+\n",
      "EHiN-FH conferenceapp  :  100+\n",
      "Carpooling FH Hagenberg  :  100+\n",
      "Wi-Fi Auto-connect  :  1,000,000+\n",
      "Talkie - Wi-Fi Calling, Chats, File Sharing  :  500,000+\n",
      "WeFi - Free Fast WiFi Connect & Find Wi-Fi Map  :  1,000,000+\n",
      "Sat-Fi  :  5,000+\n",
      "Portable Wi-Fi hotspot Free  :  100,000+\n",
      "TownWiFi | Wi-Fi Everywhere  :  500,000+\n",
      "Jazz Wi-Fi  :  10,000+\n",
      "Sat-Fi Voice  :  1,000+\n",
      "Free Wi-fi HotspoT  :  50,000+\n",
      "FN Web Radio  :  10+\n",
      "FNH Payment Info  :  10+\n",
      "MARKET FO  :  100+\n",
      "FO OP St-Nazaire  :  100+\n",
      "FO SODEXO  :  100+\n",
      "FO RCBT  :  100+\n",
      "FO Interim  :  100+\n",
      "FO PSA Sept-Fons  :  100+\n",
      "FO AIRBUS TLSE  :  1,000+\n",
      "FO STELIA Méaulte  :  100+\n",
      "FO AIRBUS Nantes  :  100+\n",
      "FP Connect  :  100+\n",
      "FreedomPop Messaging Phone/SIM  :  500,000+\n",
      "FP Live  :  10+\n",
      "HipChat - beta version  :  50,000+\n"
     ]
    }
   ],
   "source": [
    "for app in android_free:\n",
    "    if app[1] == 'COMMUNICATION':\n",
    "        print(app[0], ' : ', app[5])"
   ]
  },
  {
   "cell_type": "code",
   "execution_count": null,
   "metadata": {},
   "outputs": [],
   "source": []
  }
 ],
 "metadata": {
  "kernelspec": {
   "display_name": "Python 3",
   "language": "python",
   "name": "python3"
  },
  "language_info": {
   "codemirror_mode": {
    "name": "ipython",
    "version": 3
   },
   "file_extension": ".py",
   "mimetype": "text/x-python",
   "name": "python",
   "nbconvert_exporter": "python",
   "pygments_lexer": "ipython3",
   "version": "3.7.0"
  }
 },
 "nbformat": 4,
 "nbformat_minor": 2
}
